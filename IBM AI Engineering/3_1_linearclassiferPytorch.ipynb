{
  "cells": [
    {
      "cell_type": "markdown",
      "metadata": {
        "id": "a4zXA0HfELku"
      },
      "source": [
        "<a href=\"http://cocl.us/pytorch_link_top\">\n",
        "    <img src=\"https://s3-api.us-geo.objectstorage.softlayer.net/cf-courses-data/CognitiveClass/DL0110EN/notebook_images%20/Pytochtop.png\" width=\"750\" alt=\"IBM Product \">\n",
        "</a>\n"
      ]
    },
    {
      "cell_type": "markdown",
      "metadata": {
        "id": "6qs8ACzGELkx"
      },
      "source": [
        "<img src=\"https://cf-courses-data.s3.us.cloud-object-storage.appdomain.cloud/IBMDeveloperSkillsNetwork-DL0321EN-SkillsNetwork/image/IDSN-logo.png\" width=\"200\" alt=\"cognitiveclass.ai logo\">\n"
      ]
    },
    {
      "cell_type": "markdown",
      "metadata": {
        "id": "baRNBFDxELkx"
      },
      "source": [
        "<h1>Objective</h1><ul><li> How to use linear classifier in pytorch.</li></ul>\n"
      ]
    },
    {
      "cell_type": "markdown",
      "metadata": {
        "id": "pvXn1NQFELky"
      },
      "source": [
        "<h1>Linear  Classifier with PyTorch </h1>\n"
      ]
    },
    {
      "cell_type": "markdown",
      "metadata": {
        "id": "Y7cgehSAELky"
      },
      "source": [
        "<p>Before you use a  Deep neural network to solve the classification problem,  it 's a good idea to try and solve the problem with the simplest method. You will need the dataset object from the previous section.\n",
        "In this lab, we solve the problem with a linear classifier.\n",
        " You will be asked to determine the maximum accuracy your linear classifier can achieve on the validation data for 5 epochs. We will give some free parameter values if you follow the instructions you will be able to answer the quiz. Just like the other labs there are several steps, but in this lab you will only be quizzed on the final result. </p>\n"
      ]
    },
    {
      "cell_type": "markdown",
      "metadata": {
        "id": "rcA4eu_fELky"
      },
      "source": [
        "<h2>Table of Contents</h2>\n"
      ]
    },
    {
      "cell_type": "markdown",
      "metadata": {
        "id": "SxzSa8HcELkz"
      },
      "source": [
        "<div class=\"alert alert-block alert-info\" style=\"margin-top: 20px\">\n",
        "\n",
        "\n",
        "<ul>\n",
        "    <li><a href=\"#auxiliary\"> Imports and Auxiliary Functions </a></li>\n",
        "    <li><a href=\"#download_data\"> Download data</a></li>\n",
        "    <li><a href=\"#data_class\"> Dataset Class</a></li>\n",
        "    <li><a href=\"#trasform_Data_object\">Transform Object and Dataset Object</a></li>\n",
        "    <li><a href=\"#Question\">Question</a></li>\n",
        "</ul>\n",
        "<p>Estimated Time Needed: <strong>25 min</strong></p>\n",
        " </div>\n",
        "<hr>\n"
      ]
    },
    {
      "cell_type": "markdown",
      "metadata": {
        "id": "vYTvZBGUELkz"
      },
      "source": [
        "<h2 id=\"auxiliary\">Imports and Auxiliary Functions</h2>\n"
      ]
    },
    {
      "cell_type": "markdown",
      "metadata": {
        "id": "9XpqXsZ_ELk0"
      },
      "source": [
        "The following are the libraries we are going to use for this lab:\n"
      ]
    },
    {
      "cell_type": "code",
      "execution_count": null,
      "metadata": {
        "tags": [],
        "id": "PWTWiw7BELk0"
      },
      "outputs": [],
      "source": [
        "from PIL import Image\n",
        "import matplotlib.pyplot as plt\n",
        "import os\n",
        "import glob\n",
        "import torch\n",
        "from torch.utils.data import Dataset, DataLoader\n",
        "import torchvision.transforms as transforms\n",
        "import torch.nn as nn\n",
        "from torch import optim\n",
        "import skillsnetwork"
      ]
    },
    {
      "cell_type": "markdown",
      "metadata": {
        "id": "uIj5ssRqELk1"
      },
      "source": [
        "<h2 id=\"download_data\">Download Data</h2>\n"
      ]
    },
    {
      "cell_type": "markdown",
      "metadata": {
        "id": "ecv74CVoELk2"
      },
      "source": [
        "In this section, you are going to download the data from IBM object storage using **skillsnetwork.prepare** command. <b>skillsnetwork.prepare</b> is a command that's used to download a zip file, unzip it and store it in a specified directory. Locally we store the data in the directory  **/resources/data**.\n"
      ]
    },
    {
      "cell_type": "markdown",
      "metadata": {
        "id": "J8OkqFZEELk2"
      },
      "source": [
        "First, we download the file that contains the images:\n"
      ]
    },
    {
      "cell_type": "code",
      "execution_count": null,
      "metadata": {
        "tags": [],
        "id": "8XY9bOo4ELk2",
        "outputId": "797e0dca-b234-43c9-e531-62bf66618fbb",
        "colab": {
          "referenced_widgets": [
            "b7c48aa9021346d0b1163264f3bc5088",
            "e9b02aac835b4beb81e86d07a6981db3"
          ]
        }
      },
      "outputs": [
        {
          "data": {
            "application/vnd.jupyter.widget-view+json": {
              "model_id": "b7c48aa9021346d0b1163264f3bc5088",
              "version_major": 2,
              "version_minor": 0
            },
            "text/plain": [
              "Downloading concrete_crack_images_for_classification.zip:   0%|          | 0/245259777 [00:00<?, ?it/s]"
            ]
          },
          "metadata": {},
          "output_type": "display_data"
        },
        {
          "data": {
            "application/vnd.jupyter.widget-view+json": {
              "model_id": "e9b02aac835b4beb81e86d07a6981db3",
              "version_major": 2,
              "version_minor": 0
            },
            "text/plain": [
              "  0%|          | 0/40000 [00:00<?, ?it/s]"
            ]
          },
          "metadata": {},
          "output_type": "display_data"
        },
        {
          "name": "stdout",
          "output_type": "stream",
          "text": [
            "Saved to '../../data'\n"
          ]
        }
      ],
      "source": [
        "await skillsnetwork.prepare(\"https://s3-api.us-geo.objectstorage.softlayer.net/cf-courses-data/CognitiveClass/DL0321EN/data/images/concrete_crack_images_for_classification.zip\", path = \"/resources/data\", overwrite=True)"
      ]
    },
    {
      "cell_type": "markdown",
      "metadata": {
        "id": "wz0Rlt0pELk3"
      },
      "source": [
        "<h2 id=\"data_class\">Dataset Class</h2>\n"
      ]
    },
    {
      "cell_type": "markdown",
      "metadata": {
        "id": "RvCt8omLELk3"
      },
      "source": [
        "In this section, we will use the previous code to build a dataset class. As before, make sure the even samples are positive, and the odd samples are negative.  In this case, if the parameter <code>train</code> is set to <code>True</code>, use the first 10 000 samples as training data; otherwise, the last 10 000 samples will be used as validation data. Do not forget to sort your files so they are in the same order.  \n"
      ]
    },
    {
      "cell_type": "markdown",
      "metadata": {
        "id": "pRdIAnBrELk4"
      },
      "source": [
        "**Note:** We are using the first 10,000 samples as our training data instead of the available 30,000 to decrease the training time of the model. If you want, you can train it yourself with all 30,000 samples just by modifying 2 lines in the following code chunk.\n"
      ]
    },
    {
      "cell_type": "code",
      "execution_count": null,
      "metadata": {
        "tags": [],
        "id": "d-eErygCELk4"
      },
      "outputs": [],
      "source": [
        "class Dataset(Dataset):\n",
        "\n",
        "    # Constructor\n",
        "    def __init__(self,transform=None,train=True):\n",
        "        directory=\"/resources/data\"\n",
        "        positive=\"Positive\"\n",
        "        negative=\"Negative\"\n",
        "\n",
        "        positive_file_path=os.path.join(directory,positive)\n",
        "        negative_file_path=os.path.join(directory,negative)\n",
        "        positive_files=[os.path.join(positive_file_path,file) for file in  os.listdir(positive_file_path) if file.endswith(\".jpg\")]\n",
        "        positive_files.sort()\n",
        "        negative_files=[os.path.join(negative_file_path,file) for file in  os.listdir(negative_file_path) if file.endswith(\".jpg\")]\n",
        "        negative_files.sort()\n",
        "        number_of_samples=len(positive_files)+len(negative_files)\n",
        "        self.all_files=[None]*number_of_samples\n",
        "        self.all_files[::2]=positive_files\n",
        "        self.all_files[1::2]=negative_files\n",
        "        # The transform is goint to be used on image\n",
        "        self.transform = transform\n",
        "        #torch.LongTensor\n",
        "        self.Y=torch.zeros([number_of_samples]).type(torch.LongTensor)\n",
        "        self.Y[::2]=1\n",
        "        self.Y[1::2]=0\n",
        "\n",
        "        if train:\n",
        "            self.all_files=self.all_files[0:10000] #Change to 30000 to use the full test dataset\n",
        "            self.Y=self.Y[0:10000] #Change to 30000 to use the full test dataset\n",
        "            self.len=len(self.all_files)\n",
        "        else:\n",
        "            self.all_files=self.all_files[30000:]\n",
        "            self.Y=self.Y[30000:]\n",
        "            self.len=len(self.all_files)\n",
        "\n",
        "    # Get the length\n",
        "    def __len__(self):\n",
        "        return self.len\n",
        "\n",
        "    # Getter\n",
        "    def __getitem__(self, idx):\n",
        "\n",
        "\n",
        "        image=Image.open(self.all_files[idx])\n",
        "        y=self.Y[idx]\n",
        "\n",
        "\n",
        "        # If there is any transform method, apply it onto the image\n",
        "        if self.transform:\n",
        "            image = self.transform(image)\n",
        "\n",
        "        return image, y"
      ]
    },
    {
      "cell_type": "markdown",
      "metadata": {
        "id": "llwKOXAoELk4"
      },
      "source": [
        "<h2 id=\"trasform_Data_object\">Transform Object and Dataset Object</h2>\n"
      ]
    },
    {
      "cell_type": "markdown",
      "metadata": {
        "id": "vTLIO_tNELk4"
      },
      "source": [
        "Create a transform object, that uses the <code>Compose</code> function. First use the transform <code>ToTensor()</code> and followed by <code>Normalize(mean, std)</code>. The value for <code> mean</code> and <code>std</code> are provided for you.\n"
      ]
    },
    {
      "cell_type": "code",
      "execution_count": null,
      "metadata": {
        "tags": [],
        "id": "l0ZHoxs_ELk5"
      },
      "outputs": [],
      "source": [
        "mean = [0.485, 0.456, 0.406]\n",
        "std = [0.229, 0.224, 0.225]\n",
        "# transforms.ToTensor()\n",
        "#transforms.Normalize(mean, std)\n",
        "#transforms.Compose([])\n",
        "\n",
        "transform =transforms.Compose([ transforms.ToTensor(), transforms.Normalize(mean, std)])\n"
      ]
    },
    {
      "cell_type": "markdown",
      "metadata": {
        "id": "NVGmTRo4ELk5"
      },
      "source": [
        "Create object for the training data  <code>dataset_train</code> and validation <code>dataset_val</code>. Use the transform object to convert the images to tensors using the transform object:\n"
      ]
    },
    {
      "cell_type": "code",
      "execution_count": null,
      "metadata": {
        "tags": [],
        "id": "qug3zN-TELk5"
      },
      "outputs": [],
      "source": [
        "dataset_train=Dataset(transform=transform,train=True)\n",
        "dataset_val=Dataset(transform=transform,train=False)"
      ]
    },
    {
      "cell_type": "markdown",
      "metadata": {
        "id": "HDFC6y5mELk5"
      },
      "source": [
        "We  can find the shape of the image:\n"
      ]
    },
    {
      "cell_type": "code",
      "execution_count": null,
      "metadata": {
        "tags": [],
        "id": "9ELq0LdaELk6",
        "outputId": "fd246cbe-d5bb-4bb1-888d-349fb41b534d"
      },
      "outputs": [
        {
          "data": {
            "text/plain": [
              "torch.Size([3, 227, 227])"
            ]
          },
          "execution_count": 6,
          "metadata": {},
          "output_type": "execute_result"
        }
      ],
      "source": [
        "dataset_train[0][0].shape"
      ]
    },
    {
      "cell_type": "markdown",
      "metadata": {
        "id": "T-xflt2gELk6"
      },
      "source": [
        "We see that it's a color image with three channels:\n"
      ]
    },
    {
      "cell_type": "code",
      "execution_count": null,
      "metadata": {
        "tags": [],
        "id": "h2UyKhEXELk6",
        "outputId": "6279258b-70e4-467e-f566-492f36b03cae"
      },
      "outputs": [
        {
          "data": {
            "text/plain": [
              "154587"
            ]
          },
          "execution_count": 7,
          "metadata": {},
          "output_type": "execute_result"
        }
      ],
      "source": [
        "size_of_image=3*227*227\n",
        "size_of_image"
      ]
    },
    {
      "cell_type": "markdown",
      "metadata": {
        "id": "B1aOw9RtELk7"
      },
      "source": [
        "<h2 id=\"Question\"> Question <h2>\n"
      ]
    },
    {
      "cell_type": "markdown",
      "metadata": {
        "id": "nphvgYFoELk7"
      },
      "source": [
        "<b> Create a custom module for Softmax for two classes,called model. The input size should be the <code>size_of_image</code>, you should record the maximum accuracy achieved on the validation data for the different epochs. For example if the 5 epochs the accuracy was 0.5, 0.2, 0.64,0.77, 0.66 you would select 0.77.</b>\n"
      ]
    },
    {
      "cell_type": "markdown",
      "metadata": {
        "id": "yuX2XRLPELk7"
      },
      "source": [
        "Train the model with the following free parameter values:\n"
      ]
    },
    {
      "cell_type": "markdown",
      "metadata": {
        "id": "pivRRV3NELk7"
      },
      "source": [
        "<b>Parameter Values</b>\n",
        "   <li>learning rate:0.1 </li>\n",
        "   <li>momentum term:0.1 </li>\n",
        "   <li>batch size training:5</li>\n",
        "   <li>Loss function:Cross Entropy Loss </li>\n",
        "   <li>epochs:5</li>\n",
        "   <li>set: torch.manual_seed(0)</li>\n"
      ]
    },
    {
      "cell_type": "code",
      "execution_count": null,
      "metadata": {
        "tags": [],
        "id": "BMeZvCLnELk7",
        "outputId": "1ff5cd40-b57d-4340-f766-479828e85028"
      },
      "outputs": [
        {
          "data": {
            "text/plain": [
              "<torch._C.Generator at 0x7fa9c7824df0>"
            ]
          },
          "execution_count": 8,
          "metadata": {},
          "output_type": "execute_result"
        }
      ],
      "source": [
        "torch.manual_seed(0)"
      ]
    },
    {
      "cell_type": "markdown",
      "metadata": {
        "id": "9_XhW3qoELk8"
      },
      "source": [
        "<b>Custom Module:</b>\n"
      ]
    },
    {
      "cell_type": "code",
      "execution_count": null,
      "metadata": {
        "tags": [],
        "id": "DWjhG5IeELk8"
      },
      "outputs": [],
      "source": [
        "class SoftMax(nn.Module):\n",
        "\n",
        "    # Constructor\n",
        "    def __init__(self, input_size, output_size):\n",
        "        super(SoftMax, self).__init__()\n",
        "        self.linear = nn.Linear(input_size, output_size)\n",
        "\n",
        "    # Prediction\n",
        "    def forward(self, x):\n",
        "        out = self.linear(x)\n",
        "        return out"
      ]
    },
    {
      "cell_type": "markdown",
      "metadata": {
        "id": "Ql6wUI5EELk8"
      },
      "source": [
        "<b>Model Object:</b>\n"
      ]
    },
    {
      "cell_type": "code",
      "execution_count": null,
      "metadata": {
        "tags": [],
        "id": "ROdLv1SmELk9"
      },
      "outputs": [],
      "source": [
        "input_dim = 3*227*227\n",
        "output_dim = 2\n",
        "model = SoftMax(input_dim, output_dim)"
      ]
    },
    {
      "cell_type": "markdown",
      "metadata": {
        "id": "81JHuMPLELk9"
      },
      "source": [
        "<b>Optimizer:</b>\n"
      ]
    },
    {
      "cell_type": "code",
      "execution_count": null,
      "metadata": {
        "tags": [],
        "id": "y3gAq4RnELk9"
      },
      "outputs": [],
      "source": [
        "optimizer = optim.SGD(model.parameters(), lr=0.1, momentum=0.1)"
      ]
    },
    {
      "cell_type": "markdown",
      "metadata": {
        "id": "iAKnTY-mELk9"
      },
      "source": [
        "<b>Criterion:</b>\n"
      ]
    },
    {
      "cell_type": "code",
      "execution_count": null,
      "metadata": {
        "tags": [],
        "id": "DMBbuM6zELk-"
      },
      "outputs": [],
      "source": [
        "criterion = nn.CrossEntropyLoss()"
      ]
    },
    {
      "cell_type": "markdown",
      "metadata": {
        "id": "knC_3IbkELk-"
      },
      "source": [
        "<b>Data Loader Training and Validation:</b>\n"
      ]
    },
    {
      "cell_type": "code",
      "execution_count": null,
      "metadata": {
        "tags": [],
        "id": "QyNEcHbgELk-"
      },
      "outputs": [],
      "source": [
        "train_loader = torch.utils.data.DataLoader(dataset=dataset_train, batch_size=1000)\n",
        "validation_loader = torch.utils.data.DataLoader(dataset=dataset_val, batch_size=1000)"
      ]
    },
    {
      "cell_type": "markdown",
      "metadata": {
        "id": "F1muOSnnELk_"
      },
      "source": [
        "<b>Train Model with 5 epochs, should take 35 minutes: </b>\n"
      ]
    },
    {
      "cell_type": "code",
      "execution_count": null,
      "metadata": {
        "tags": [],
        "id": "h6cb4hwlELk_"
      },
      "outputs": [],
      "source": [
        "n_epochs = 5\n",
        "loss_list = []\n",
        "accuracy_list = []\n",
        "N_test = len(dataset_val)\n",
        "\n",
        "def train_model(n_epochs):\n",
        "    for epoch in range(n_epochs):\n",
        "        for x, y in train_loader:\n",
        "            optimizer.zero_grad()\n",
        "            z = model(x.view(-1, 3 * 227 * 227))\n",
        "            loss = criterion(z, y)\n",
        "            loss.backward()\n",
        "            optimizer.step()\n",
        "\n",
        "        correct = 0\n",
        "        # perform a prediction on the validationdata\n",
        "        for x_test, y_test in validation_loader:\n",
        "            z = model(x_test.view(-1, 3 * 227 * 227))\n",
        "            _, yhat = torch.max(z.data, 1)\n",
        "            correct += (yhat == y_test).sum().item()\n",
        "        accuracy = correct / N_test\n",
        "        loss_list.append(loss.data)\n",
        "        accuracy_list.append(accuracy)\n",
        "\n",
        "train_model(n_epochs)\n",
        "\n",
        "print(f'Epoch {epoch+1}/{num_epochs}, Accuracy: {accuracy:.2f}')\n",
        "print(f'Best validation accuracy achieved: {best_accuracy:.2f}')"
      ]
    },
    {
      "cell_type": "markdown",
      "metadata": {
        "id": "tlHKO8TkELk_"
      },
      "source": [
        "<h2>About the Authors:</h2>\n",
        " <a href=\\\"https://www.linkedin.com/in/joseph-s-50398b136/\\\">Joseph Santarcangelo</a> has a PhD in Electrical Engineering, his research focused on using machine learning, signal processing, and computer vision to determine how videos impact human cognition. Joseph has been working for IBM since he completed his PhD.\n"
      ]
    },
    {
      "cell_type": "markdown",
      "metadata": {
        "id": "B_f6WtU1ELlA"
      },
      "source": [
        "\n",
        "## Change Log\n",
        "\n",
        "|  Date (YYYY-MM-DD) |  Version | Changed By  |  Change Description |\n",
        "|---|---|---|---|\n",
        "| 2020-09-18  | 2.0  | Shubham  |  Migrated Lab to Markdown and added to course repo in GitLab |\n",
        "\n"
      ]
    },
    {
      "cell_type": "markdown",
      "metadata": {
        "id": "oHUjzvfOELlA"
      },
      "source": [
        "Copyright &copy; 2019 <a href=\"cognitiveclass.ai\"> cognitiveclass.ai</a>. This notebook and its source code are released under the terms of the <a href=\"https://bigdatauniversity.com/mit-license/?utm_medium=Exinfluencer&utm_source=Exinfluencer&utm_content=000026UJ&utm_term=10006555&utm_id=NA-SkillsNetwork-Channel-SkillsNetworkCoursesIBMDeveloperSkillsNetworkDL0321ENSkillsNetwork951-2022-01-01\">MIT License</a>\n"
      ]
    },
    {
      "cell_type": "code",
      "execution_count": null,
      "metadata": {
        "id": "0IkOneEaELlA"
      },
      "outputs": [],
      "source": []
    }
  ],
  "metadata": {
    "kernelspec": {
      "display_name": "Python",
      "language": "python",
      "name": "conda-env-python-py"
    },
    "language_info": {
      "codemirror_mode": {
        "name": "ipython",
        "version": 3
      },
      "file_extension": ".py",
      "mimetype": "text/x-python",
      "name": "python",
      "nbconvert_exporter": "python",
      "pygments_lexer": "ipython3",
      "version": "3.7.12"
    },
    "colab": {
      "provenance": []
    }
  },
  "nbformat": 4,
  "nbformat_minor": 0
}