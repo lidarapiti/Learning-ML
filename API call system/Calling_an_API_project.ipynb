{
  "nbformat": 4,
  "nbformat_minor": 0,
  "metadata": {
    "colab": {
      "provenance": []
    },
    "kernelspec": {
      "name": "python3",
      "display_name": "Python 3"
    },
    "language_info": {
      "name": "python"
    }
  },
  "cells": [
    {
      "cell_type": "markdown",
      "source": [
        "#API call using Python"
      ],
      "metadata": {
        "id": "uc_ppkL7T6oD"
      }
    },
    {
      "cell_type": "markdown",
      "source": [
        "##Project Description\n",
        "###APIs provide access to vast amounts of data, pre-trained AI models, and AI-powered services that can significantly enhance AI and data science projects.\n",
        "###In this project we are going to request access to an api and bring it to our notebook.\n",
        "* Usually the API we use depends on the task we want to complete. For example,\n",
        "you could use the OpenAI API to access state-of-the-art language models like GPT-4 for natural language processing tasks, or integrate Cloud Vision API to add computer vision capabilities to your project.\n",
        "\n",
        "**Since this project is focused on calling an API, we are going\n",
        "to call an API with lack of authentication requirements, for simplicity**.\n",
        "\n",
        "####sources: https://www.dataquest.io/blog/python-api-tutorial/\n",
        "https://medium.com/@antonin.puskarcik/how-to-get-kaggle-dataset-through-api-using-python-8ead6a58d68b\n",
        "\n"
      ],
      "metadata": {
        "id": "0KTHiPJGUYdn"
      }
    },
    {
      "cell_type": "markdown",
      "source": [
        "In order to work with APIs in Python, we need tools that will make those requests. The most common library for making requests and working with APIs in Python is the requests library."
      ],
      "metadata": {
        "id": "Y43qp7VyTp03"
      }
    },
    {
      "cell_type": "code",
      "execution_count": null,
      "metadata": {
        "colab": {
          "base_uri": "https://localhost:8080/"
        },
        "id": "B2O66BewOPq9",
        "outputId": "b563d7a6-fa8c-43ad-90f1-4800b454a1f0"
      },
      "outputs": [
        {
          "output_type": "stream",
          "name": "stdout",
          "text": [
            "Requirement already satisfied: requests in /usr/local/lib/python3.10/dist-packages (2.32.3)\n",
            "Requirement already satisfied: charset-normalizer<4,>=2 in /usr/local/lib/python3.10/dist-packages (from requests) (3.3.2)\n",
            "Requirement already satisfied: idna<4,>=2.5 in /usr/local/lib/python3.10/dist-packages (from requests) (3.8)\n",
            "Requirement already satisfied: urllib3<3,>=1.21.1 in /usr/local/lib/python3.10/dist-packages (from requests) (2.0.7)\n",
            "Requirement already satisfied: certifi>=2017.4.17 in /usr/local/lib/python3.10/dist-packages (from requests) (2024.8.30)\n"
          ]
        }
      ],
      "source": [
        "#install requests library\n",
        "!pip install requests"
      ]
    },
    {
      "cell_type": "code",
      "source": [
        "#importing libraries\n",
        "import requests\n",
        "import base64\n",
        "import zipfile\n",
        "import io\n",
        "import pandas as pd"
      ],
      "metadata": {
        "id": "SjMfD1DyeKG2"
      },
      "execution_count": null,
      "outputs": []
    },
    {
      "cell_type": "markdown",
      "source": [
        "For this project we are going to call a Kaggle API to get access on a dataset from Kaggle. Kaggle is a website that allows users to find datasets they want to use in building AI models.\n",
        "\n",
        "First, we make a get request. the response includes a status code that tells us whether the request was successful. To do this:\n",
        "\n",
        "\n",
        "1.  We need to prepare the url\n",
        "2.  Prepare the request header\n",
        "3. Send a get request\n",
        "\n",
        "\n",
        "\n"
      ],
      "metadata": {
        "id": "tN0jdR51mQSd"
      }
    },
    {
      "cell_type": "code",
      "source": [
        "#1: Preparing the URL.\n",
        "base_url = \"https://www.kaggle.com/api/v1\"\n",
        "owner_slug = \"shivamb\"\n",
        "dataset_slug = \"netflix-shows\"\n",
        "dataset_version = \"5\"\n",
        "url = f\"{base_url}/datasets/download/{owner_slug}/{dataset_slug}?datasetVersionNumber={dataset_version}\""
      ],
      "metadata": {
        "id": "ijMV9z33fYIp"
      },
      "execution_count": null,
      "outputs": []
    },
    {
      "cell_type": "code",
      "source": [
        "# #2: Encoding the credentials and preparing the request header.\n",
        "username = \"lidarap\"\n",
        "key = \"ffcdc97f8bb43a7fa48908330111439b\"\n",
        "creds = base64.b64encode(bytes(f\"{username}:{key}\", \"ISO-8859-1\")).decode(\"ascii\")\n",
        "headers = {\n",
        "    \"Authorization\": f\"Basic {creds}\"\n",
        "}"
      ],
      "metadata": {
        "id": "PsjMKvTgffLl"
      },
      "execution_count": null,
      "outputs": []
    },
    {
      "cell_type": "code",
      "source": [
        "#3: Sending a GET request to the URL with the encoded credentials.\n",
        "response = requests.get(url, headers=headers)"
      ],
      "metadata": {
        "id": "AAfgFkjVfooG"
      },
      "execution_count": null,
      "outputs": []
    },
    {
      "cell_type": "code",
      "source": [
        "#4: Checking the status of the request and printing the response code\n",
        "print(f\"Response Status Code: {response.status_code}\")\n",
        "if response.status_code != 200:\n",
        "    print(f\"Error: {response.content}\")"
      ],
      "metadata": {
        "colab": {
          "base_uri": "https://localhost:8080/"
        },
        "id": "9yGTU3KqkqtU",
        "outputId": "ea708903-bb38-452a-e076-30bc5f4c378d"
      },
      "execution_count": null,
      "outputs": [
        {
          "output_type": "stream",
          "name": "stdout",
          "text": [
            "Response Status Code: 200\n"
          ]
        }
      ]
    },
    {
      "cell_type": "code",
      "source": [
        "#5: Loading the response as a file via io and opening it via zipfile.\n",
        "zf = zipfile.ZipFile(io.BytesIO(response.content))"
      ],
      "metadata": {
        "id": "gXo2cHtFfrTv"
      },
      "execution_count": null,
      "outputs": []
    },
    {
      "cell_type": "code",
      "source": [
        "#6: Reading the CSV from the zip file and converting it to a dataframe.\n",
        "file_name = \"netflix_titles.csv\"\n",
        "df = pd.read_csv(zf.open(file_name))"
      ],
      "metadata": {
        "id": "AzpZm2v9ft5l"
      },
      "execution_count": null,
      "outputs": []
    },
    {
      "cell_type": "code",
      "source": [
        "#7: Printing the dataframe.\n",
        "print(df.head())"
      ],
      "metadata": {
        "colab": {
          "base_uri": "https://localhost:8080/"
        },
        "id": "bfHbONbbfw2F",
        "outputId": "5a728d03-e18d-46eb-9073-ccdea23d00f0"
      },
      "execution_count": null,
      "outputs": [
        {
          "output_type": "stream",
          "name": "stdout",
          "text": [
            "  show_id     type                  title         director  \\\n",
            "0      s1    Movie   Dick Johnson Is Dead  Kirsten Johnson   \n",
            "1      s2  TV Show          Blood & Water              NaN   \n",
            "2      s3  TV Show              Ganglands  Julien Leclercq   \n",
            "3      s4  TV Show  Jailbirds New Orleans              NaN   \n",
            "4      s5  TV Show           Kota Factory              NaN   \n",
            "\n",
            "                                                cast        country  \\\n",
            "0                                                NaN  United States   \n",
            "1  Ama Qamata, Khosi Ngema, Gail Mabalane, Thaban...   South Africa   \n",
            "2  Sami Bouajila, Tracy Gotoas, Samuel Jouy, Nabi...            NaN   \n",
            "3                                                NaN            NaN   \n",
            "4  Mayur More, Jitendra Kumar, Ranjan Raj, Alam K...          India   \n",
            "\n",
            "           date_added  release_year rating   duration  \\\n",
            "0  September 25, 2021          2020  PG-13     90 min   \n",
            "1  September 24, 2021          2021  TV-MA  2 Seasons   \n",
            "2  September 24, 2021          2021  TV-MA   1 Season   \n",
            "3  September 24, 2021          2021  TV-MA   1 Season   \n",
            "4  September 24, 2021          2021  TV-MA  2 Seasons   \n",
            "\n",
            "                                           listed_in  \\\n",
            "0                                      Documentaries   \n",
            "1    International TV Shows, TV Dramas, TV Mysteries   \n",
            "2  Crime TV Shows, International TV Shows, TV Act...   \n",
            "3                             Docuseries, Reality TV   \n",
            "4  International TV Shows, Romantic TV Shows, TV ...   \n",
            "\n",
            "                                         description  \n",
            "0  As her father nears the end of his life, filmm...  \n",
            "1  After crossing paths at a party, a Cape Town t...  \n",
            "2  To protect his family from a powerful drug lor...  \n",
            "3  Feuds, flirtations and toilet talk go down amo...  \n",
            "4  In a city of coaching centers known to train I...  \n"
          ]
        }
      ]
    }
  ]
}